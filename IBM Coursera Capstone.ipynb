{
 "cells": [
  {
   "cell_type": "markdown",
   "metadata": {},
   "source": [
    "# IBM Coursera Capstone (Week 2)\n",
    "### Applied Data Science Capstone by IBM/Coursera"
   ]
  },
  {
   "cell_type": "markdown",
   "metadata": {},
   "source": [
    "* [Introductions](#introduction)\n",
    "* [Data](#Data)\n",
    "* [Methodology](#Methodology)\n",
    "* [Analysis](#Analysis)\n",
    "* [Results and Discussion](#Results and Discussion)\n",
    "* [Conclusion](#Conclusion)"
   ]
  },
  {
   "cell_type": "markdown",
   "metadata": {},
   "source": [
    "### Introductions\n",
    "\n",
    "This project focuses on creating a predictive model that can accurately gauge danger levels for drivers, given a list of conditions. These danger levels will warn of dangers in these conditions with or without the influence of alcohol/speeding. This will be targeted at a company that would use this information to possibly do an awareness campaign or possibly sell a product to warn young/new drivers about conditions ahead and how their actions can influence their danger..\n",
    "\n",
    "We are going to examine past examples of accidents and compare them against the severity of the accident. We won’t focus on the likelihood of getting into an accident, but the severity of an accident if you get into one given a host of conditions. \n",
    "\n",
    "By using the Data Science knowledge we’ve gained throughout the course, we will be able to glean a good accuracy for a predictive model to help us warn these new drivers. This model can then be used in the company to use as they need.\n",
    "\n"
   ]
  },
  {
   "cell_type": "markdown",
   "metadata": {},
   "source": [
    "### Data\n",
    "\n",
    "After examining our goal, the factors that will affect our model are:\n",
    "Light conditions\n",
    "Road conditions\n",
    "Weather conditions\n",
    "Speeding\n",
    "Influence of drugs/alcohol\n",
    "\n",
    "The data set for Collisions will be sufficient to collect the information that we need to build this model. With 194673 entries, we should have enough data to give an accurate rating. \n",
    "\n",
    "We are ignoring some factors, like:\n",
    "- Where the accident happened (crosswalk, parking lot, etc.)\n",
    "- What time the accident happened\n",
    "- The amount of people involved in the accident\n",
    "\n",
    "We are focused on the single driver of the vehicle, and their likelihood of being in a serious accident. We are also grouping together being under the influence. Drugs or Alcohol are going to be a binary Yes or No for simplicity sake.\n"
   ]
  },
  {
   "cell_type": "code",
   "execution_count": 1,
   "metadata": {},
   "outputs": [],
   "source": [
    "import pandas as pd\n",
    "import numpy as np\n",
    "import matplotlib.pyplot as plt"
   ]
  },
  {
   "cell_type": "code",
   "execution_count": 2,
   "metadata": {},
   "outputs": [
    {
     "name": "stdout",
     "output_type": "stream",
     "text": [
      "(194673, 38)\n"
     ]
    }
   ],
   "source": [
    "df = pd.read_csv(\"Data-Collisions.csv\", dtype='str')\n",
    "print(df.shape)"
   ]
  },
  {
   "cell_type": "markdown",
   "metadata": {},
   "source": [
    "#### Data Cleaning\n",
    "Drop the columns we have no use for, and print our a header to see a snippit of the data."
   ]
  },
  {
   "cell_type": "code",
   "execution_count": 3,
   "metadata": {},
   "outputs": [
    {
     "data": {
      "text/html": [
       "<div>\n",
       "<style scoped>\n",
       "    .dataframe tbody tr th:only-of-type {\n",
       "        vertical-align: middle;\n",
       "    }\n",
       "\n",
       "    .dataframe tbody tr th {\n",
       "        vertical-align: top;\n",
       "    }\n",
       "\n",
       "    .dataframe thead th {\n",
       "        text-align: right;\n",
       "    }\n",
       "</style>\n",
       "<table border=\"1\" class=\"dataframe\">\n",
       "  <thead>\n",
       "    <tr style=\"text-align: right;\">\n",
       "      <th></th>\n",
       "      <th>SEVERITYCODE</th>\n",
       "      <th>UNDERINFL</th>\n",
       "      <th>WEATHER</th>\n",
       "      <th>ROADCOND</th>\n",
       "      <th>LIGHTCOND</th>\n",
       "      <th>SPEEDING</th>\n",
       "    </tr>\n",
       "  </thead>\n",
       "  <tbody>\n",
       "    <tr>\n",
       "      <th>0</th>\n",
       "      <td>2</td>\n",
       "      <td>N</td>\n",
       "      <td>Overcast</td>\n",
       "      <td>Wet</td>\n",
       "      <td>Daylight</td>\n",
       "      <td>NaN</td>\n",
       "    </tr>\n",
       "    <tr>\n",
       "      <th>1</th>\n",
       "      <td>1</td>\n",
       "      <td>0</td>\n",
       "      <td>Raining</td>\n",
       "      <td>Wet</td>\n",
       "      <td>Dark - Street Lights On</td>\n",
       "      <td>NaN</td>\n",
       "    </tr>\n",
       "    <tr>\n",
       "      <th>2</th>\n",
       "      <td>1</td>\n",
       "      <td>0</td>\n",
       "      <td>Overcast</td>\n",
       "      <td>Dry</td>\n",
       "      <td>Daylight</td>\n",
       "      <td>NaN</td>\n",
       "    </tr>\n",
       "    <tr>\n",
       "      <th>3</th>\n",
       "      <td>1</td>\n",
       "      <td>N</td>\n",
       "      <td>Clear</td>\n",
       "      <td>Dry</td>\n",
       "      <td>Daylight</td>\n",
       "      <td>NaN</td>\n",
       "    </tr>\n",
       "    <tr>\n",
       "      <th>4</th>\n",
       "      <td>2</td>\n",
       "      <td>0</td>\n",
       "      <td>Raining</td>\n",
       "      <td>Wet</td>\n",
       "      <td>Daylight</td>\n",
       "      <td>NaN</td>\n",
       "    </tr>\n",
       "  </tbody>\n",
       "</table>\n",
       "</div>"
      ],
      "text/plain": [
       "  SEVERITYCODE UNDERINFL   WEATHER ROADCOND                LIGHTCOND SPEEDING\n",
       "0            2         N  Overcast      Wet                 Daylight      NaN\n",
       "1            1         0   Raining      Wet  Dark - Street Lights On      NaN\n",
       "2            1         0  Overcast      Dry                 Daylight      NaN\n",
       "3            1         N     Clear      Dry                 Daylight      NaN\n",
       "4            2         0   Raining      Wet                 Daylight      NaN"
      ]
     },
     "execution_count": 3,
     "metadata": {},
     "output_type": "execute_result"
    }
   ],
   "source": [
    "trimmedDF = df.drop(['OBJECTID', 'X', 'Y', 'INCKEY', 'COLDETKEY', \n",
    "                     'REPORTNO', 'ADDRTYPE', 'INTKEY', 'LOCATION',\n",
    "                     'EXCEPTRSNCODE', 'EXCEPTRSNDESC', 'SEVERITYDESC',\n",
    "                     'COLLISIONTYPE', 'PEDCOUNT', 'PEDCYLCOUNT',\n",
    "                     'VEHCOUNT', 'INCDATE', 'INCDTTM',\n",
    "                     'JUNCTIONTYPE', 'SDOT_COLCODE', 'SDOT_COLDESC',\n",
    "                    'INATTENTIONIND', 'PEDROWNOTGRNT','SDOTCOLNUM',\n",
    "                     'ST_COLCODE', 'ST_COLDESC', 'SEGLANEKEY',\n",
    "                     'CROSSWALKKEY','HITPARKEDCAR', 'STATUS',\n",
    "                     'SEVERITYCODE.1', 'PERSONCOUNT'], axis=1)\n",
    "trimmedDF.head()"
   ]
  },
  {
   "cell_type": "markdown",
   "metadata": {},
   "source": [
    "Cleaning the dataframe of and NaN values, and also removing rows that contain unspecific conditions, as those will not help our model. "
   ]
  },
  {
   "cell_type": "code",
   "execution_count": 4,
   "metadata": {},
   "outputs": [],
   "source": [
    "\n",
    "\n",
    "trimmedDF.loc[(trimmedDF['UNDERINFL'] == '1'),'UNDERINFL']='Y'\n",
    "trimmedDF.loc[(trimmedDF['UNDERINFL'] == '0'),'UNDERINFL']='Y'\n",
    "\n",
    "trimmedDF = trimmedDF[trimmedDF.LIGHTCOND != 'Unknown']\n",
    "trimmedDF = trimmedDF[trimmedDF.LIGHTCOND != 'Other']\n",
    "trimmedDF = trimmedDF[trimmedDF.LIGHTCOND != 'Dark - Unknown Lighting']\n",
    "#trimmedDF['LIGHTCOND'] = trimmedDF['LIGHTCOND'].replace('ABC', 'A')\n",
    "\n",
    "trimmedDF = trimmedDF[trimmedDF.ROADCOND != 'Unknown']\n",
    "trimmedDF = trimmedDF[trimmedDF.ROADCOND != 'Other']\n",
    "\n",
    "trimmedDF = trimmedDF[trimmedDF.WEATHER != 'Unknown']\n",
    "trimmedDF = trimmedDF[trimmedDF.WEATHER != 'Other']\n",
    "\n",
    "trimmedDF['SPEEDING'] = trimmedDF['SPEEDING'].fillna('N')\n",
    "\n",
    "trimmedDF = trimmedDF.dropna()\n",
    "\n",
    "cleanedDF = trimmedDF"
   ]
  },
  {
   "cell_type": "markdown",
   "metadata": {},
   "source": [
    "Here we can see the breakdown for each category and the counts for each. This will be useful later for our surface examination of the data."
   ]
  },
  {
   "cell_type": "code",
   "execution_count": 5,
   "metadata": {},
   "outputs": [
    {
     "name": "stdout",
     "output_type": "stream",
     "text": [
      "1    114269\n",
      "2     55680\n",
      "Name: SEVERITYCODE, dtype: int64\n",
      "N    89484\n",
      "Y    80465\n",
      "Name: UNDERINFL, dtype: int64\n",
      "Clear                       108822\n",
      "Raining                      32644\n",
      "Overcast                     26922\n",
      "Snowing                        825\n",
      "Fog/Smog/Smoke                 553\n",
      "Sleet/Hail/Freezing Rain       107\n",
      "Blowing Sand/Dirt               46\n",
      "Severe Crosswind                25\n",
      "Partly Cloudy                    5\n",
      "Name: WEATHER, dtype: int64\n",
      "Dry               121487\n",
      "Wet                46319\n",
      "Ice                 1080\n",
      "Snow/Slush           833\n",
      "Standing Water       105\n",
      "Sand/Mud/Dirt         65\n",
      "Oil                   60\n",
      "Name: ROADCOND, dtype: int64\n",
      "Daylight                    112618\n",
      "Dark - Street Lights On      46748\n",
      "Dusk                          5648\n",
      "Dawn                          2413\n",
      "Dark - No Street Lights       1408\n",
      "Dark - Street Lights Off      1114\n",
      "Name: LIGHTCOND, dtype: int64\n",
      "N    160864\n",
      "Y      9085\n",
      "Name: SPEEDING, dtype: int64\n"
     ]
    }
   ],
   "source": [
    "print(cleanedDF['SEVERITYCODE'].value_counts())\n",
    "print(cleanedDF['UNDERINFL'].value_counts())\n",
    "print(cleanedDF['WEATHER'].value_counts())\n",
    "print(cleanedDF['ROADCOND'].value_counts())\n",
    "print(cleanedDF['LIGHTCOND'].value_counts())\n",
    "print(cleanedDF['SPEEDING'].value_counts())"
   ]
  },
  {
   "cell_type": "markdown",
   "metadata": {},
   "source": [
    "#### Quick examination of surface data\n",
    "Here we are going to explore the data further now that irrelivant data has been removed completely, which leaves us with a clean data frame to work with (Hence the name 'cleanedDF')."
   ]
  },
  {
   "cell_type": "code",
   "execution_count": 6,
   "metadata": {},
   "outputs": [
    {
     "data": {
      "image/png": "[encoded data removed]",
      "text/plain": [
       "<Figure size 1440x1080 with 6 Axes>"
      ]
     },
     "metadata": {},
     "output_type": "display_data"
    }
   ],
   "source": [
    "fig, axs = plt.subplots(2, 3)\n",
    "axs[0, 0].bar(['Prop Damage', 'Injury'], cleanedDF['SEVERITYCODE'].value_counts().values, color=['#ff5733'])\n",
    "axs[0, 0].set_title('Severity Code')\n",
    "axs[0, 0].tick_params(labelrotation=90)\n",
    "axs[0, 1].bar(cleanedDF['SPEEDING'].value_counts().index, cleanedDF['SPEEDING'].value_counts().values, color='#83ff67')\n",
    "axs[0, 1].set_title('Speeding')\n",
    "axs[0, 1].tick_params(labelrotation=90)\n",
    "axs[0, 2].bar(cleanedDF['LIGHTCOND'].value_counts().index, cleanedDF['LIGHTCOND'].value_counts().values, color='#ff67fa')\n",
    "axs[0, 2].set_title('Light Condition')\n",
    "axs[0, 2].tick_params(labelrotation=90)\n",
    "axs[1, 0].bar(cleanedDF['WEATHER'].value_counts().index, cleanedDF['WEATHER'].value_counts().values)\n",
    "axs[1, 0].set_title('Weather')\n",
    "axs[1, 0].tick_params(labelrotation=90)\n",
    "axs[1, 1].bar(cleanedDF['ROADCOND'].value_counts().index, cleanedDF['ROADCOND'].value_counts().values, color = '#feb62f')\n",
    "axs[1, 1].set_title('Roadcond')\n",
    "axs[1, 1].tick_params(labelrotation=90)\n",
    "axs[1, 2].bar(cleanedDF['UNDERINFL'].value_counts().index, cleanedDF['UNDERINFL'].value_counts().values, color = '#56fedf')\n",
    "axs[1, 2].set_title('Under Influence')\n",
    "axs[1, 2].tick_params(labelrotation=90)\n",
    "\n",
    "fig.set_figheight(15)\n",
    "fig.set_figwidth(20)\n",
    "\n",
    "#axes = cleanedDF['SEVERITYCODE'].plot.bar(rot=0, subplots=True)"
   ]
  },
  {
   "cell_type": "markdown",
   "metadata": {},
   "source": [
    "Transform the data from labels to integers so that we can use logistic regression"
   ]
  },
  {
   "cell_type": "code",
   "execution_count": 7,
   "metadata": {},
   "outputs": [
    {
     "name": "stdout",
     "output_type": "stream",
     "text": [
      "Daylight                    112618\n",
      "Dark - Street Lights On      46748\n",
      "Dusk                          5648\n",
      "Dawn                          2413\n",
      "Dark - No Street Lights       1408\n",
      "Dark - Street Lights Off      1114\n",
      "Name: LIGHTCOND, dtype: int64\n"
     ]
    }
   ],
   "source": [
    "print(cleanedDF['LIGHTCOND'].value_counts())"
   ]
  },
  {
   "cell_type": "markdown",
   "metadata": {},
   "source": [
    "Create dicts to map out each string entry to an int value for the classifier to process correctly"
   ]
  },
  {
   "cell_type": "code",
   "execution_count": 8,
   "metadata": {},
   "outputs": [],
   "source": [
    "severityDict = {'1':0, '2':1}\n",
    "underinflDict = {'N':0, 'Y':1}\n",
    "weatherDict = {'Clear':0, 'Raining':1,'Overcast':2, 'Snowing':3,'Fog/Smog/Smoke':4,\n",
    "               'Sleet/Hail/Freezing Rain':5, 'Blowing Sand/Dirt':6, 'Severe Crosswind':7,\n",
    "               'Partly Cloudy':8}\n",
    "roadcondDict = {'Dry':0, 'Wet':1, 'Ice':2, 'Snow/Slush':3, 'Standing Water':4, 'Sand/Mud/Dirt':5, 'Oil':6}\n",
    "lightcondDict = {'Daylight':0, 'Dark - Street Lights On':1, 'Dusk':2, 'Dawn':3, 'Dark - No Street Lights':4, \n",
    "                 'Dark - Street Lights Off':5}\n",
    "speedingDict = {'N':0, 'Y':1}"
   ]
  },
  {
   "cell_type": "markdown",
   "metadata": {},
   "source": [
    "Replaces the tags in the dataframe with coded values, for the classifiers"
   ]
  },
  {
   "cell_type": "code",
   "execution_count": 9,
   "metadata": {},
   "outputs": [
    {
     "data": {
      "text/html": [
       "<div>\n",
       "<style scoped>\n",
       "    .dataframe tbody tr th:only-of-type {\n",
       "        vertical-align: middle;\n",
       "    }\n",
       "\n",
       "    .dataframe tbody tr th {\n",
       "        vertical-align: top;\n",
       "    }\n",
       "\n",
       "    .dataframe thead th {\n",
       "        text-align: right;\n",
       "    }\n",
       "</style>\n",
       "<table border=\"1\" class=\"dataframe\">\n",
       "  <thead>\n",
       "    <tr style=\"text-align: right;\">\n",
       "      <th></th>\n",
       "      <th>SEVERITYCODE</th>\n",
       "      <th>UNDERINFL</th>\n",
       "      <th>WEATHER</th>\n",
       "      <th>ROADCOND</th>\n",
       "      <th>LIGHTCOND</th>\n",
       "      <th>SPEEDING</th>\n",
       "    </tr>\n",
       "  </thead>\n",
       "  <tbody>\n",
       "    <tr>\n",
       "      <th>0</th>\n",
       "      <td>1</td>\n",
       "      <td>0</td>\n",
       "      <td>2</td>\n",
       "      <td>1</td>\n",
       "      <td>0</td>\n",
       "      <td>0</td>\n",
       "    </tr>\n",
       "    <tr>\n",
       "      <th>1</th>\n",
       "      <td>0</td>\n",
       "      <td>1</td>\n",
       "      <td>1</td>\n",
       "      <td>1</td>\n",
       "      <td>1</td>\n",
       "      <td>0</td>\n",
       "    </tr>\n",
       "    <tr>\n",
       "      <th>2</th>\n",
       "      <td>0</td>\n",
       "      <td>1</td>\n",
       "      <td>2</td>\n",
       "      <td>0</td>\n",
       "      <td>0</td>\n",
       "      <td>0</td>\n",
       "    </tr>\n",
       "    <tr>\n",
       "      <th>3</th>\n",
       "      <td>0</td>\n",
       "      <td>0</td>\n",
       "      <td>0</td>\n",
       "      <td>0</td>\n",
       "      <td>0</td>\n",
       "      <td>0</td>\n",
       "    </tr>\n",
       "    <tr>\n",
       "      <th>4</th>\n",
       "      <td>1</td>\n",
       "      <td>1</td>\n",
       "      <td>1</td>\n",
       "      <td>1</td>\n",
       "      <td>0</td>\n",
       "      <td>0</td>\n",
       "    </tr>\n",
       "  </tbody>\n",
       "</table>\n",
       "</div>"
      ],
      "text/plain": [
       "   SEVERITYCODE  UNDERINFL  WEATHER  ROADCOND  LIGHTCOND  SPEEDING\n",
       "0             1          0        2         1          0         0\n",
       "1             0          1        1         1          1         0\n",
       "2             0          1        2         0          0         0\n",
       "3             0          0        0         0          0         0\n",
       "4             1          1        1         1          0         0"
      ]
     },
     "execution_count": 9,
     "metadata": {},
     "output_type": "execute_result"
    }
   ],
   "source": [
    "test = cleanedDF\n",
    "\n",
    "test['SEVERITYCODE'] = test.SEVERITYCODE.replace(severityDict)\n",
    "test['UNDERINFL'] = test.UNDERINFL.replace(underinflDict)\n",
    "test['WEATHER'] = test.WEATHER.replace(weatherDict)\n",
    "test['ROADCOND'] = test.ROADCOND.replace(roadcondDict)\n",
    "test['LIGHTCOND'] = test.LIGHTCOND.replace(lightcondDict)\n",
    "test['SPEEDING'] = test.SPEEDING.replace(speedingDict)\n",
    "\n",
    "\n",
    "test.head()"
   ]
  },
  {
   "cell_type": "markdown",
   "metadata": {},
   "source": [
    "Double check that the data is cleaned out and we don't have any residual NaN values"
   ]
  },
  {
   "cell_type": "code",
   "execution_count": 10,
   "metadata": {},
   "outputs": [
    {
     "name": "stdout",
     "output_type": "stream",
     "text": [
      "0\n",
      "0\n",
      "0\n",
      "0\n",
      "0\n",
      "0\n"
     ]
    }
   ],
   "source": [
    "print(test['SEVERITYCODE'].isna().sum())\n",
    "print(test['UNDERINFL'].isna().sum())\n",
    "print(test['WEATHER'].isna().sum())\n",
    "print(test['ROADCOND'].isna().sum())\n",
    "print(test['LIGHTCOND'].isna().sum())\n",
    "print(test['SPEEDING'].isna().sum())"
   ]
  },
  {
   "cell_type": "markdown",
   "metadata": {},
   "source": [
    "This ends the data cleaning, From here we should be prepared enough to actually model the product"
   ]
  },
  {
   "cell_type": "markdown",
   "metadata": {},
   "source": [
    "# Methodology\n",
    "Our goal is to create a predictive model that can give us a danger rating of the road, given certain conditions. We will guage the accuracy by comparing the model against a testing set of data, and based off that accuracy, we will select a model to be the finalized product to give the company that requested the results. Based on the results, we can then rate the model and either recommend it's use, or perhaps require more data in return. This will be evaluated in the Result section later on.\n",
    "<nr>\n",
    "Each time a model is crated, it gets evaluated for its best result and then gets added to a list to be compared at the completion of all of the models. This gives us an easy way to see them when they have completed. I should remind those who wish to follow along that our data set is quite large, so some of the models like KNN and SVM tend to run for a minute before completion."
   ]
  },
  {
   "cell_type": "markdown",
   "metadata": {},
   "source": [
    "# Analysis"
   ]
  },
  {
   "cell_type": "markdown",
   "metadata": {},
   "source": [
    "Split testing an training data"
   ]
  },
  {
   "cell_type": "code",
   "execution_count": 11,
   "metadata": {},
   "outputs": [],
   "source": [
    "from sklearn.model_selection import train_test_split\n",
    "from sklearn.linear_model import LogisticRegression\n",
    "\n",
    "X = test.drop('SEVERITYCODE', axis=1)\n",
    "y = test['SEVERITYCODE']\n",
    "X_train, X_test, y_train, y_test = train_test_split(X, y, test_size=0.33, random_state=42)"
   ]
  },
  {
   "cell_type": "markdown",
   "metadata": {},
   "source": [
    "Get the accuracy ratings ready to decide on a good model"
   ]
  },
  {
   "cell_type": "code",
   "execution_count": 12,
   "metadata": {},
   "outputs": [],
   "source": [
    "from sklearn.metrics import jaccard_similarity_score\n",
    "from sklearn.metrics import f1_score\n",
    "\n",
    "f1List = []\n",
    "jaccardList = []"
   ]
  },
  {
   "cell_type": "markdown",
   "metadata": {},
   "source": [
    "### Logistic Regression\n"
   ]
  },
  {
   "cell_type": "code",
   "execution_count": 13,
   "metadata": {},
   "outputs": [
    {
     "name": "stderr",
     "output_type": "stream",
     "text": [
      "C:\\Users\\Chandler Via\\Anaconda3\\lib\\site-packages\\sklearn\\metrics\\classification.py:1135: UndefinedMetricWarning: F-score is ill-defined and being set to 0.0 in labels with no predicted samples.\n",
      "  'precision', 'predicted', average, warn_for)\n"
     ]
    }
   ],
   "source": [
    "logreg = LogisticRegression()\n",
    "logreg.fit(X_train, y_train)\n",
    "\n",
    "logregYhat = logreg.predict(X_test)\n",
    "jaccardList.append(jaccard_similarity_score(y_test, logregYhat))\n",
    "f1List.append(f1_score(y_test, logregYhat, average='weighted'))"
   ]
  },
  {
   "cell_type": "markdown",
   "metadata": {},
   "source": [
    "### K Nearest Neighbors"
   ]
  },
  {
   "cell_type": "code",
   "execution_count": 14,
   "metadata": {},
   "outputs": [
    {
     "name": "stdout",
     "output_type": "stream",
     "text": [
      "Highest accuracy was 0.6703337850367306 at K = 1\n"
     ]
    }
   ],
   "source": [
    "from sklearn.neighbors import KNeighborsClassifier\n",
    "\n",
    "maxK = 0\n",
    "maxAcc = 0\n",
    "\n",
    "for i  in range(1, 10):\n",
    "    k = i\n",
    "    #Train Model and Predict  \n",
    "    neigh = KNeighborsClassifier(n_neighbors = k).fit(X_train,y_train)\n",
    "    knnYhat = logreg.predict(X_test)\n",
    "    score = jaccard_similarity_score(y_test, knnYhat)\n",
    "    if score > maxAcc:\n",
    "        maxAcc = score\n",
    "        maxK = k\n",
    "\n",
    "print(\"Highest accuracy was\", maxAcc, \"at K =\", maxK)\n",
    "\n",
    "neigh = KNeighborsClassifier(n_neighbors = maxK).fit(X_train, y_train)\n",
    "knnYhat = neigh.predict(X_test)\n",
    "jaccardList.append(jaccard_similarity_score(y_test, knnYhat))\n",
    "f1List.append(f1_score(y_test, knnYhat, average='weighted'))"
   ]
  },
  {
   "cell_type": "markdown",
   "metadata": {},
   "source": [
    "### Decision Tree Classifier"
   ]
  },
  {
   "cell_type": "code",
   "execution_count": 15,
   "metadata": {},
   "outputs": [
    {
     "name": "stderr",
     "output_type": "stream",
     "text": [
      "C:\\Users\\Chandler Via\\Anaconda3\\lib\\site-packages\\sklearn\\metrics\\classification.py:1135: UndefinedMetricWarning: F-score is ill-defined and being set to 0.0 in labels with no predicted samples.\n",
      "  'precision', 'predicted', average, warn_for)\n"
     ]
    }
   ],
   "source": [
    "from sklearn.tree import DecisionTreeClassifier\n",
    "dTree = DecisionTreeClassifier(criterion=\"entropy\", max_depth = 4)\n",
    "dTree.fit(X_train,y_train)\n",
    "\n",
    "dtYhat = dTree.predict(X_test)\n",
    "jaccardList.append(jaccard_similarity_score(y_test, dtYhat))\n",
    "f1List.append(f1_score(y_test, dtYhat, average='weighted'))\n"
   ]
  },
  {
   "cell_type": "markdown",
   "metadata": {},
   "source": [
    "# SVM"
   ]
  },
  {
   "cell_type": "code",
   "execution_count": 16,
   "metadata": {},
   "outputs": [],
   "source": [
    "from sklearn import svm\n",
    "clf = svm.SVC(kernel='rbf', probability=True)\n",
    "clf.fit(X_train, y_train) \n",
    "\n",
    "svmYhat = clf.predict(X_test)\n",
    "jaccardList.append(jaccard_similarity_score(y_test, svmYhat))\n",
    "f1List.append(f1_score(y_test, svmYhat, average='weighted'))"
   ]
  },
  {
   "cell_type": "markdown",
   "metadata": {},
   "source": [
    "# Results and Discussion\n",
    "Below is a dataframe that consists of the accuracy ratings for each of the four models we created. "
   ]
  },
  {
   "cell_type": "code",
   "execution_count": 17,
   "metadata": {},
   "outputs": [
    {
     "data": {
      "text/html": [
       "<div>\n",
       "<style scoped>\n",
       "    .dataframe tbody tr th:only-of-type {\n",
       "        vertical-align: middle;\n",
       "    }\n",
       "\n",
       "    .dataframe tbody tr th {\n",
       "        vertical-align: top;\n",
       "    }\n",
       "\n",
       "    .dataframe thead th {\n",
       "        text-align: right;\n",
       "    }\n",
       "</style>\n",
       "<table border=\"1\" class=\"dataframe\">\n",
       "  <thead>\n",
       "    <tr style=\"text-align: right;\">\n",
       "      <th></th>\n",
       "      <th>Jaccard</th>\n",
       "      <th>F1 Score</th>\n",
       "    </tr>\n",
       "  </thead>\n",
       "  <tbody>\n",
       "    <tr>\n",
       "      <th>Logistic Regression</th>\n",
       "      <td>0.670334</td>\n",
       "      <td>0.538033</td>\n",
       "    </tr>\n",
       "    <tr>\n",
       "      <th>KNN</th>\n",
       "      <td>0.519863</td>\n",
       "      <td>0.533896</td>\n",
       "    </tr>\n",
       "    <tr>\n",
       "      <th>Decision Tree</th>\n",
       "      <td>0.670334</td>\n",
       "      <td>0.538033</td>\n",
       "    </tr>\n",
       "    <tr>\n",
       "      <th>SVM</th>\n",
       "      <td>0.670334</td>\n",
       "      <td>0.538099</td>\n",
       "    </tr>\n",
       "  </tbody>\n",
       "</table>\n",
       "</div>"
      ],
      "text/plain": [
       "                      Jaccard  F1 Score\n",
       "Logistic Regression  0.670334  0.538033\n",
       "KNN                  0.519863  0.533896\n",
       "Decision Tree        0.670334  0.538033\n",
       "SVM                  0.670334  0.538099"
      ]
     },
     "execution_count": 17,
     "metadata": {},
     "output_type": "execute_result"
    }
   ],
   "source": [
    "resultDF = pd.DataFrame(data = {'Jaccard':jaccardList, 'F1 Score':f1List}, index = ['Logistic Regression', 'KNN', 'Decision Tree', 'SVM'])\n",
    "resultDF"
   ]
  },
  {
   "cell_type": "code",
   "execution_count": 18,
   "metadata": {},
   "outputs": [
    {
     "data": {
      "image/png": "[encoded data removed]",
      "text/plain": [
       "<Figure size 432x288 with 4 Axes>"
      ]
     },
     "metadata": {},
     "output_type": "display_data"
    }
   ],
   "source": [
    "import sklearn.metrics as metrics\n",
    "fig, axs = plt.subplots(2, 2)\n",
    "\n",
    "#Generate graph for LOGREG\n",
    "y_pred_proba = logreg.predict_proba(X_test)[::,1]\n",
    "fpr, tpr, threshold = metrics.roc_curve(y_test, y_pred_proba)\n",
    "roc_auc = metrics.auc(fpr, tpr)\n",
    "axs[0, 0].plot(fpr, tpr, 'b', label = 'AUC = %0.2f' % roc_auc)\n",
    "\n",
    "#Generate graph for KNN\n",
    "y_pred_proba = neigh.predict_proba(X_test)[::,1]\n",
    "fpr, tpr, threshold = metrics.roc_curve(y_test, y_pred_proba)\n",
    "roc_auc = metrics.auc(fpr, tpr)\n",
    "axs[0, 1].plot(fpr, tpr, 'b', label = 'AUC = %0.2f' % roc_auc)\n",
    "\n",
    "#Generate graph for DTREE\n",
    "y_pred_proba = dTree.predict_proba(X_test)[::,1]\n",
    "fpr, tpr, threshold = metrics.roc_curve(y_test, y_pred_proba)\n",
    "roc_auc = metrics.auc(fpr, tpr)\n",
    "axs[1, 0].plot(fpr, tpr, 'b', label = 'AUC = %0.2f' % roc_auc)\n",
    "\n",
    "#Generate graph for SVM\n",
    "y_pred_proba = clf.predict_proba(X_test)[::,1]\n",
    "fpr, tpr, threshold = metrics.roc_curve(y_test, y_pred_proba)\n",
    "roc_auc = metrics.auc(fpr, tpr)\n",
    "axs[1, 1].plot(fpr, tpr, 'b', label = 'AUC = %0.2f' % roc_auc)\n",
    "\n",
    "plt.show()"
   ]
  },
  {
   "cell_type": "markdown",
   "metadata": {},
   "source": [
    "As we can see from the ROC curves, our algorithm isn't performing to a level that would be desired. There are many reasons that this can be, and after plenty of trial and error, these are the best restults from each model. From the Introduction, a problem we had was we were missing non-accident information. This is an issue, because we can't give an accurate probability of getting into an accident, given the road/weather/light conditions. We could, in theory, take a study that was done and take a probability from that as a base prob. for getting into an accident, but that wouldn't mean that it takes in the conditions to give us a probability. This would be a cheap and ineffective method. Because of this issue, an increased data set that contained non-accidents would've been fantastic for our model. \n"
   ]
  },
  {
   "cell_type": "markdown",
   "metadata": {},
   "source": [
    "# Conclusion"
   ]
  },
  {
   "cell_type": "markdown",
   "metadata": {},
   "source": [
    "The purpose of this project was to identify and create a model that can predict the danger of an accident, given weather conditions. We have a model that can predict a result, but with a rather poor accuracy. By trimming down our data into values we can use in these models, we have found that we are (most likely) lacking the data required to give a better result. By creating four different models, all ranging at poor accuracy results, we might be able to conclude that a wider range in data might need to be given. \n",
    "\n",
    "Final decision of this model is given up to the client/management to review and either request a repeat from the data collection stage, or perhaps redefine goals in the business decision phase."
   ]
  }
 ],
 "metadata": {
  "kernelspec": {
   "display_name": "Python 3",
   "language": "python",
   "name": "python3"
  },
  "language_info": {
   "codemirror_mode": {
    "name": "ipython",
    "version": 3
   },
   "file_extension": ".py",
   "mimetype": "text/x-python",
   "name": "python",
   "nbconvert_exporter": "python",
   "pygments_lexer": "ipython3",
   "version": "3.6.5"
  }
 },
 "nbformat": 4,
 "nbformat_minor": 2
}
